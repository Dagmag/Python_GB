{
 "cells": [
  {
   "cell_type": "markdown",
   "metadata": {},
   "source": [
    "Напишите программу, которая принимает на вход координаты двух точек и находит расстояние между ними в 2D пространстве.\n",
    "\n",
    "Пример:\n",
    "\n",
    "- A (3,6); B (2,1) -> 5,09\n",
    "- A (7,-5); B (1,-1) -> 7,21\n",
    "\"\"\""
   ]
  },
  {
   "cell_type": "code",
   "execution_count": 5,
   "metadata": {},
   "outputs": [
    {
     "name": "stdout",
     "output_type": "stream",
     "text": [
      "Укажите координаты точки А:\n",
      "Укажите координаты точки B:\n",
      "Расстояние от A до B:  101.77\n"
     ]
    }
   ],
   "source": [
    "# ФОРМУЛА AB = √(xb - xa)2 + (yb - ya)2\n",
    "\n",
    "from math import sqrt\n",
    "print('Укажите координаты точки А:')\n",
    "x_A = float(input('X: '))\n",
    "y_A = float(input('Y: '))\n",
    "print('Укажите координаты точки B:')\n",
    "x_B = float(input('X: '))\n",
    "y_B = float(input('Y: '))\n",
    "\n",
    "\n",
    "print('Расстояние от A до B: ', round(\n",
    "    sqrt((x_A - x_B)**2 + (y_A - y_B)**2), 2))"
   ]
  }
 ],
 "metadata": {
  "kernelspec": {
   "display_name": "Python 3.10.6 64-bit",
   "language": "python",
   "name": "python3"
  },
  "language_info": {
   "codemirror_mode": {
    "name": "ipython",
    "version": 3
   },
   "file_extension": ".py",
   "mimetype": "text/x-python",
   "name": "python",
   "nbconvert_exporter": "python",
   "pygments_lexer": "ipython3",
   "version": "3.10.6"
  },
  "orig_nbformat": 4,
  "vscode": {
   "interpreter": {
    "hash": "c711bf8727ea8b634f24cfc4057a5f7b9b6191a5255b19f9d3ab721995c1b56d"
   }
  }
 },
 "nbformat": 4,
 "nbformat_minor": 2
}
